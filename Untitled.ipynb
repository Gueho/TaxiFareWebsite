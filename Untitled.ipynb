{
 "cells": [
  {
   "cell_type": "code",
   "execution_count": 1,
   "id": "587acc4b",
   "metadata": {},
   "outputs": [],
   "source": [
    "import datetime\n",
    "import streamlit as st\n",
    "import requests\n",
    "import pandas as pd\n"
   ]
  },
  {
   "cell_type": "code",
   "execution_count": 38,
   "id": "030a5e6f",
   "metadata": {},
   "outputs": [],
   "source": [
    "\n",
    "\n",
    "date = st.date_input('date')\n",
    "time = st.time_input('time')\n",
    "date_time = datetime.datetime.combine(date, time)\n",
    "pickup_address = 'Central Park'\n",
    "dropoff_address = value = 'JFK'\n",
    "\n",
    "pickuploc_params = {\n",
    "    'q': pickup_address,\n",
    "    'format': 'json'\n",
    "}\n",
    "dropoffloc_params = {\n",
    "    'q': dropoff_address,\n",
    "    'format': 'json'\n",
    "}\n",
    "geo_url = \"https://nominatim.openstreetmap.org\"\n",
    "pickup_response = requests.get(geo_url, params = pickuploc_params).json()\n",
    "dropoff_response = requests.get(geo_url, params = dropoffloc_params).json()\n",
    "\n",
    "pickup_latitude = float(pickup_response[0]['lat'])\n",
    "pickup_longitude = float(pickup_response[0]['lon'])\n",
    "dropoff_latitude = float(dropoff_response[0]['lat'])\n",
    "dropoff_longitude = float(dropoff_response[0]['lon'])\n",
    "\n",
    "# pickup_longitude = st.number_input('pickup address')\n",
    "# pickup_latitude = st.number_input('pickup latitude')\n",
    "# dropoff_longitude = st.number_input('dropoff longitude')\n",
    "# dropoff_latitude = st.number_input('dropoff latitude')\n",
    "#\n",
    "\n"
   ]
  },
  {
   "cell_type": "code",
   "execution_count": 39,
   "id": "b1827780",
   "metadata": {},
   "outputs": [],
   "source": [
    "loc_dict = {'lat': [pickup_latitude, dropoff_latitude],\n",
    "              'lon': [pickup_longitude, dropoff_longitude]}\n",
    "\n",
    "\n",
    "loc_df = pd.DataFrame.from_dict(loc_dict)"
   ]
  },
  {
   "cell_type": "code",
   "execution_count": 40,
   "id": "1c69c71c",
   "metadata": {},
   "outputs": [
    {
     "data": {
      "text/html": [
       "<div>\n",
       "<style scoped>\n",
       "    .dataframe tbody tr th:only-of-type {\n",
       "        vertical-align: middle;\n",
       "    }\n",
       "\n",
       "    .dataframe tbody tr th {\n",
       "        vertical-align: top;\n",
       "    }\n",
       "\n",
       "    .dataframe thead th {\n",
       "        text-align: right;\n",
       "    }\n",
       "</style>\n",
       "<table border=\"1\" class=\"dataframe\">\n",
       "  <thead>\n",
       "    <tr style=\"text-align: right;\">\n",
       "      <th></th>\n",
       "      <th>lat</th>\n",
       "      <th>lon</th>\n",
       "    </tr>\n",
       "  </thead>\n",
       "  <tbody>\n",
       "    <tr>\n",
       "      <th>0</th>\n",
       "      <td>40.782773</td>\n",
       "      <td>-73.965363</td>\n",
       "    </tr>\n",
       "    <tr>\n",
       "      <th>1</th>\n",
       "      <td>40.642948</td>\n",
       "      <td>-73.779373</td>\n",
       "    </tr>\n",
       "  </tbody>\n",
       "</table>\n",
       "</div>"
      ],
      "text/plain": [
       "         lat        lon\n",
       "0  40.782773 -73.965363\n",
       "1  40.642948 -73.779373"
      ]
     },
     "execution_count": 40,
     "metadata": {},
     "output_type": "execute_result"
    }
   ],
   "source": [
    "loc_df"
   ]
  },
  {
   "cell_type": "code",
   "execution_count": 41,
   "id": "eb2fffa8",
   "metadata": {},
   "outputs": [],
   "source": [
    "import numpy as np\n",
    "\n",
    "df = pd.DataFrame(\n",
    "     np.random.randn(1000, 2) / [50, 50] + [37.76, -122.4],\n",
    "     columns=['lat', 'lon'])"
   ]
  },
  {
   "cell_type": "code",
   "execution_count": 42,
   "id": "9cc4b350",
   "metadata": {},
   "outputs": [
    {
     "data": {
      "text/plain": [
       "lat    float64\n",
       "lon    float64\n",
       "dtype: object"
      ]
     },
     "execution_count": 42,
     "metadata": {},
     "output_type": "execute_result"
    }
   ],
   "source": [
    "loc_df.dtypes"
   ]
  },
  {
   "cell_type": "code",
   "execution_count": null,
   "id": "ef847623",
   "metadata": {},
   "outputs": [],
   "source": []
  }
 ],
 "metadata": {
  "kernelspec": {
   "display_name": "Python 3 (ipykernel)",
   "language": "python",
   "name": "python3"
  },
  "language_info": {
   "codemirror_mode": {
    "name": "ipython",
    "version": 3
   },
   "file_extension": ".py",
   "mimetype": "text/x-python",
   "name": "python",
   "nbconvert_exporter": "python",
   "pygments_lexer": "ipython3",
   "version": "3.8.12"
  },
  "toc": {
   "base_numbering": 1,
   "nav_menu": {},
   "number_sections": true,
   "sideBar": true,
   "skip_h1_title": false,
   "title_cell": "Table of Contents",
   "title_sidebar": "Contents",
   "toc_cell": false,
   "toc_position": {},
   "toc_section_display": true,
   "toc_window_display": false
  }
 },
 "nbformat": 4,
 "nbformat_minor": 5
}
